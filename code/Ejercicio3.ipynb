{
 "cells": [
  {
   "cell_type": "markdown",
   "metadata": {},
   "source": [
    "4. Escribe el código de un algoritmo que solicita los valores a,b y c de una ecuación cuadrática de la\n",
    "forma:\n",
    "𝑦 = 𝑎𝑥! + 𝑏𝑥 + 𝑐\n",
    "y luego despliegue por pantalla los siguientes mensajes:\n",
    "- “No hay soluciones reales” (si el discriminante es negativo)\n",
    "- “Hay una solución real y es igual a “ y desplegar el valor (cuando el discriminante es igual a 0)\n",
    "- “Hay dos soluciones reales iguales a “ y desplegar sus valores (cuando el discriminante es\n",
    "positivo).\n",
    "Recuerda que las soluciones se calculas con la siguiente fórmula.\n",
    "𝑥 =\n",
    "−𝑏 ± √𝑏! − 4𝑎𝑐\n",
    "2𝑎\n",
    "Una solución posible para este programa es"
   ]
  },
  {
   "cell_type": "code",
   "execution_count": 2,
   "metadata": {},
   "outputs": [],
   "source": [
    "a = int(input('Ingresa número entero: '))"
   ]
  }
 ],
 "metadata": {
  "kernelspec": {
   "display_name": "Python 3",
   "language": "python",
   "name": "python3"
  },
  "language_info": {
   "codemirror_mode": {
    "name": "ipython",
    "version": 3
   },
   "file_extension": ".py",
   "mimetype": "text/x-python",
   "name": "python",
   "nbconvert_exporter": "python",
   "pygments_lexer": "ipython3",
   "version": "3.12.0"
  }
 },
 "nbformat": 4,
 "nbformat_minor": 2
}
